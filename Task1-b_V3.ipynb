{
 "cells": [
  {
   "cell_type": "code",
   "execution_count": 51,
   "metadata": {},
   "outputs": [
    {
     "name": "stdout",
     "output_type": "stream",
     "text": [
      "Populating the interactive namespace from numpy and matplotlib\n"
     ]
    }
   ],
   "source": [
    "import numpy as np\n",
    "%pylab inline --no-import-all\n",
    "from sklearn.model_selection import train_test_split\n",
    "from sklearn.linear_model import LogisticRegression\n",
    "from sklearn.metrics import accuracy_score\n",
    "from sklearn.preprocessing import LabelBinarizer\n",
    "## Neural nets\n",
    "#.....................................\n",
    "from keras.models import Sequential\n",
    "from keras.layers.core import Dense, Dropout, Activation\n",
    "from keras.optimizers import Adam, SGD\n",
    "from keras.callbacks import EarlyStopping\n",
    "from keras import regularizers\n",
    "from keras.layers import Conv2D, Flatten, MaxPooling2D, GaussianNoise\n",
    "from keras.callbacks import History\n",
    "from PIL import Image\n",
    "from keras.preprocessing.image import ImageDataGenerator\n",
    "from keras.utils import to_categorical\n",
    "from keras.metrics import TopKCategoricalAccuracy, SparseTopKCategoricalAccuracy\n",
    "import np_utils"
   ]
  },
  {
   "cell_type": "code",
   "execution_count": null,
   "metadata": {},
   "outputs": [],
   "source": []
  },
  {
   "cell_type": "code",
   "execution_count": 52,
   "metadata": {},
   "outputs": [],
   "source": [
    "with np.load('training-dataset.npz')  as data:\n",
    "    img = data['x']\n",
    "    lbl = data['y']"
   ]
  },
  {
   "cell_type": "code",
   "execution_count": 53,
   "metadata": {},
   "outputs": [
    {
     "name": "stdout",
     "output_type": "stream",
     "text": [
      "<class 'numpy.ndarray'>\n"
     ]
    }
   ],
   "source": [
    "# Dropping 1 position for prediction label\n",
    "print(type(lbl))"
   ]
  },
  {
   "cell_type": "code",
   "execution_count": null,
   "metadata": {},
   "outputs": [],
   "source": [
    "for l in lbl:\n",
    "    if l >1 or l<10:\n",
    "        print(type(l))"
   ]
  },
  {
   "cell_type": "code",
   "execution_count": null,
   "metadata": {},
   "outputs": [],
   "source": [
    "print(img.shape)"
   ]
  },
  {
   "cell_type": "code",
   "execution_count": null,
   "metadata": {},
   "outputs": [],
   "source": [
    "for im in range(10):\n",
    "    image = img[im]\n",
    "    image = np.array(image, dtype='float')\n",
    "    pixels = image.reshape((28, 28))\n",
    "    plt.imshow(pixels)\n",
    "    plt.show()"
   ]
  },
  {
   "cell_type": "code",
   "execution_count": null,
   "metadata": {},
   "outputs": [],
   "source": [
    "# Splitting data into train and test with 80% for training data and 10% for test data\n",
    "\n",
    "X_train, X_val_test, y_train, y_val_test = train_test_split(img, lbl, test_size=0.2,random_state=1) \n",
    "\n",
    "# Splitting the train data again into validation and train data with 80% of the train data for training and the \n",
    "# remaining 10% for validation purpose\n",
    "\n",
    "X_val, X_test, y_val, y_test = train_test_split(X_val_test, y_val_test, test_size=0.3, random_state=1) \n"
   ]
  },
  {
   "cell_type": "code",
   "execution_count": null,
   "metadata": {},
   "outputs": [],
   "source": [
    "# Visualising the shape of the train and test data\n",
    "print(X_train.shape)\n",
    "print(X_test.shape)\n",
    "print(X_val.shape)\n",
    "print(y_test.shape)\n",
    "print(y_val.shape)"
   ]
  },
  {
   "cell_type": "code",
   "execution_count": null,
   "metadata": {},
   "outputs": [],
   "source": [
    "print(X_train.shape)"
   ]
  },
  {
   "cell_type": "code",
   "execution_count": null,
   "metadata": {},
   "outputs": [],
   "source": [
    "# Preprocessing the data so that it runs faster during fitting the model\n",
    "# Preprocess the data (these are NumPy arrays)\n",
    "X_train = X_train.reshape(X_train.shape[0], 28, 28, 1).astype(\"float32\") / 255\n",
    "X_test = X_test.reshape(X_test.shape[0], 28, 28, 1).astype(\"float32\") / 255\n",
    "X_val = X_val.reshape(X_val.shape[0], 28, 28, 1).astype(\"float32\") / 255\n",
    "y_train = y_train.astype(\"float32\")\n",
    "y_test = y_test.astype(\"float32\")\n",
    "y_val = y_val.astype(\"float32\")"
   ]
  },
  {
   "cell_type": "code",
   "execution_count": null,
   "metadata": {},
   "outputs": [],
   "source": [
    "# One hot decoding \n",
    "onehot = LabelBinarizer()\n",
    "Y_train = onehot.fit_transform(y_train)\n",
    "Y_val   = onehot.fit_transform(y_val)\n",
    "Y_test   = onehot.transform(y_test)"
   ]
  },
  {
   "cell_type": "code",
   "execution_count": null,
   "metadata": {},
   "outputs": [],
   "source": []
  },
  {
   "cell_type": "code",
   "execution_count": null,
   "metadata": {},
   "outputs": [],
   "source": [
    "print(X_train.shape[0:])"
   ]
  },
  {
   "cell_type": "code",
   "execution_count": null,
   "metadata": {},
   "outputs": [],
   "source": []
  },
  {
   "cell_type": "code",
   "execution_count": null,
   "metadata": {},
   "outputs": [],
   "source": [
    "es = EarlyStopping(monitor= 'val_loss')\n",
    "optimizer = Adam(lr=0.0001)\n",
    "model = Sequential()\n",
    "\n",
    "model.add(Conv2D(32, kernel_size=(3, 3), strides=(1, 1),activation='relu', input_shape=X_train.shape[1:]))\n",
    "model.add(MaxPooling2D(pool_size=(2, 2), strides=(2, 2)))\n",
    "model.add(Conv2D(32, (3, 3), activation='relu'))\n",
    "model.add(MaxPooling2D(pool_size=(2, 2)))\n",
    "model.add(Flatten())\n",
    "model.add(Dense(350, activation='relu', kernel_regularizer=regularizers.l2(0.0001)))\n",
    "model.add(Dense(Y_train.shape[1], activation='softmax')) # We need to have as many units as classes, and softmax activation\n",
    "\n",
    "# For classification, the loss function should be categorical_crossentropy\n",
    "model.compile(loss='categorical_crossentropy', optimizer= optimizer, metrics = ['accuracy'])\n",
    "history = model.fit(X_train, Y_train, batch_size = 450, epochs=100, validation_data = (X_val, Y_val), verbose=1, callbacks = [es])"
   ]
  },
  {
   "cell_type": "code",
   "execution_count": null,
   "metadata": {},
   "outputs": [],
   "source": [
    "#summarize history for accuracy\n",
    "plt.plot(history.history['accuracy'])\n",
    "plt.plot(history.history['val_accuracy'])\n",
    "plt.title('model accuracy')\n",
    "plt.ylabel('accuracy')\n",
    "plt.xlabel('epoch')\n",
    "plt.legend(['train', 'validation'], loc='lower right')\n",
    "plt.show()\n",
    "# summarize history for loss\n",
    "\n",
    "plt.plot(history.history['loss'])\n",
    "plt.plot(history.history['val_loss'])\n",
    "plt.title('model loss')\n",
    "plt.ylabel('loss')\n",
    "plt.xlabel('epoch')\n",
    "plt.legend(['train', 'validation'], loc='upper right')\n",
    "plt.show()"
   ]
  },
  {
   "cell_type": "code",
   "execution_count": null,
   "metadata": {},
   "outputs": [],
   "source": [
    "# Save the model to disk.\n",
    "#model.save_weights('model.h5')\n",
    "\n",
    "# Load the model from disk later using:\n",
    "# model.load_weights('model.h5')\n",
    "\n",
    "# Predicting the classes on test set and printing the accuracy\n",
    "y_pred = model.predict_classes(X_test, verbose=1)\n",
    "print(accuracy_score(y_test, y_pred))"
   ]
  },
  {
   "cell_type": "code",
   "execution_count": null,
   "metadata": {},
   "outputs": [],
   "source": [
    "# Evaluating the model\n",
    "model.evaluate(X_test,Y_test)"
   ]
  },
  {
   "cell_type": "code",
   "execution_count": null,
   "metadata": {},
   "outputs": [],
   "source": [
    "(X_test.shape)"
   ]
  },
  {
   "cell_type": "code",
   "execution_count": null,
   "metadata": {},
   "outputs": [],
   "source": [
    "# Model summary\n",
    "model.summary()"
   ]
  },
  {
   "cell_type": "code",
   "execution_count": null,
   "metadata": {},
   "outputs": [],
   "source": [
    "print((y_pred[:10]))"
   ]
  },
  {
   "cell_type": "code",
   "execution_count": null,
   "metadata": {},
   "outputs": [],
   "source": [
    "print((y_test[:10]).astype('int32'))"
   ]
  },
  {
   "cell_type": "code",
   "execution_count": null,
   "metadata": {},
   "outputs": [],
   "source": [
    "# Task 2 \n",
    "# Making the model Robust against noises in the image"
   ]
  },
  {
   "cell_type": "code",
   "execution_count": null,
   "metadata": {},
   "outputs": [],
   "source": []
  },
  {
   "cell_type": "code",
   "execution_count": null,
   "metadata": {},
   "outputs": [],
   "source": []
  },
  {
   "cell_type": "code",
   "execution_count": null,
   "metadata": {},
   "outputs": [],
   "source": [
    "# compiling and fitting the sequential model\n",
    "#.....................................\n",
    "es = EarlyStopping(monitor= 'val_loss')\n",
    "optimizer = Adam(lr=0.0001)\n",
    "model = Sequential()\n",
    "\n",
    "model.add(Conv2D(32, kernel_size=(3, 3), padding = 'same',strides=(1, 1),activation='relu', input_shape=X_train.shape[1:]))\n",
    "model.add(MaxPooling2D(pool_size=(2, 2), strides=(2, 2)))\n",
    "model.add(Conv2D(32, (3, 3), padding = 'same', activation='relu'))\n",
    "model.add(MaxPooling2D(pool_size=(2, 2)))\n",
    "model.add(GaussianNoise(0.5))\n",
    "model.add(Flatten())\n",
    "model.add(Dense(360, activation='relu', kernel_regularizer=regularizers.l2(0.0001)))\n",
    "model.add(Dense(360, activation='relu', kernel_regularizer=regularizers.l2(0.0001)))\n",
    "model.add(Dense(360, activation='relu', kernel_regularizer=regularizers.l2(0.0001)))\n",
    "model.add(Dense(360, activation='relu', kernel_regularizer=regularizers.l2(0.0001)))\n",
    "model.add(Dense(Y_train.shape[1], activation='softmax')) # We need to have as many units as classes, and softmax activation\n",
    "\n",
    "# For classification, the loss function should be categorical_crossentropy\n",
    "model.compile(loss='categorical_crossentropy', optimizer= optimizer, metrics = ['top_k_categorical_accuracy'])\n",
    "history1 = model.fit(X_train, Y_train, epochs=100, batch_size = 450, validation_data = (X_val, Y_val), verbose=1, callbacks = [es])"
   ]
  },
  {
   "cell_type": "code",
   "execution_count": null,
   "metadata": {},
   "outputs": [],
   "source": [
    "#summarize history for accuracy\n",
    "plt.plot(history1.history['accuracy'])\n",
    "plt.plot(history1.history['val_accuracy'])\n",
    "plt.title('model accuracy')\n",
    "plt.ylabel('accuracy')\n",
    "plt.xlabel('epoch')\n",
    "plt.legend(['train', 'validation'], loc='lower right')\n",
    "plt.show()\n",
    "# summarize history for loss\n",
    "plt.plot(history1.history['loss'])\n",
    "plt.plot(history1.history['val_loss'])\n",
    "plt.title('model loss')\n",
    "plt.ylabel('loss')\n",
    "plt.xlabel('epoch')\n",
    "plt.legend(['train', 'validation'], loc='upper right')\n",
    "plt.show()"
   ]
  },
  {
   "cell_type": "code",
   "execution_count": null,
   "metadata": {},
   "outputs": [],
   "source": [
    "y_pred1 = model.predict_classes(X_test, verbose=1)\n",
    "print(accuracy_score(y_test, y_pred1))\n",
    "print(y_test.shape)"
   ]
  },
  {
   "cell_type": "code",
   "execution_count": null,
   "metadata": {},
   "outputs": [],
   "source": [
    "top_values_index = sorted(range(len(y_pred1)), key=lambda i: y_pred1[i])[-5:]\n",
    "print(top_values_index)"
   ]
  },
  {
   "cell_type": "code",
   "execution_count": 6,
   "metadata": {},
   "outputs": [],
   "source": [
    "img_data = np.load('test-dataset.npy')"
   ]
  },
  {
   "cell_type": "code",
   "execution_count": 7,
   "metadata": {},
   "outputs": [
    {
     "data": {
      "image/png": "[encoded data removed]",
      "text/plain": [
       "<Figure size 432x288 with 1 Axes>"
      ]
     },
     "metadata": {
      "needs_background": "light"
     },
     "output_type": "display_data"
    }
   ],
   "source": [
    "imt=img_data[1]\n",
    "plt.imshow(imt)\n",
    "plt.show()"
   ]
  },
  {
   "cell_type": "code",
   "execution_count": 10,
   "metadata": {},
   "outputs": [
    {
     "ename": "NameError",
     "evalue": "name 'xrange' is not defined",
     "output_type": "error",
     "traceback": [
      "\u001b[1;31m---------------------------------------------------------------------------\u001b[0m",
      "\u001b[1;31mNameError\u001b[0m                                 Traceback (most recent call last)",
      "\u001b[1;32m<ipython-input-10-2a1077f1817b>\u001b[0m in \u001b[0;36m<module>\u001b[1;34m\u001b[0m\n\u001b[0;32m     17\u001b[0m \u001b[1;33m\u001b[0m\u001b[0m\n\u001b[0;32m     18\u001b[0m \u001b[0mimge\u001b[0m \u001b[1;33m=\u001b[0m \u001b[0mimg_data\u001b[0m\u001b[1;33m[\u001b[0m\u001b[1;36m0\u001b[0m\u001b[1;33m]\u001b[0m\u001b[1;33m\u001b[0m\u001b[1;33m\u001b[0m\u001b[0m\n\u001b[1;32m---> 19\u001b[1;33m \u001b[0mhog_vector\u001b[0m \u001b[1;33m=\u001b[0m \u001b[0msliding_hog_windows\u001b[0m\u001b[1;33m(\u001b[0m\u001b[0mimge\u001b[0m\u001b[1;33m)\u001b[0m\u001b[1;33m\u001b[0m\u001b[1;33m\u001b[0m\u001b[0m\n\u001b[0m",
      "\u001b[1;32m<ipython-input-10-2a1077f1817b>\u001b[0m in \u001b[0;36msliding_hog_windows\u001b[1;34m(imge)\u001b[0m\n\u001b[0;32m      9\u001b[0m \u001b[1;32mdef\u001b[0m \u001b[0msliding_hog_windows\u001b[0m\u001b[1;33m(\u001b[0m\u001b[0mimge\u001b[0m\u001b[1;33m)\u001b[0m\u001b[1;33m:\u001b[0m\u001b[1;33m\u001b[0m\u001b[1;33m\u001b[0m\u001b[0m\n\u001b[0;32m     10\u001b[0m     \u001b[0mhog_vector\u001b[0m \u001b[1;33m=\u001b[0m \u001b[1;33m[\u001b[0m\u001b[1;33m]\u001b[0m\u001b[1;33m\u001b[0m\u001b[1;33m\u001b[0m\u001b[0m\n\u001b[1;32m---> 11\u001b[1;33m     \u001b[1;32mfor\u001b[0m \u001b[0my\u001b[0m \u001b[1;32min\u001b[0m \u001b[0mxrange\u001b[0m\u001b[1;33m(\u001b[0m\u001b[1;36m0\u001b[0m\u001b[1;33m,\u001b[0m \u001b[0mimage_height\u001b[0m\u001b[1;33m,\u001b[0m \u001b[0mwindow_step\u001b[0m\u001b[1;33m)\u001b[0m\u001b[1;33m:\u001b[0m\u001b[1;33m\u001b[0m\u001b[1;33m\u001b[0m\u001b[0m\n\u001b[0m\u001b[0;32m     12\u001b[0m         \u001b[1;32mfor\u001b[0m \u001b[0mx\u001b[0m \u001b[1;32min\u001b[0m \u001b[0mxrange\u001b[0m\u001b[1;33m(\u001b[0m\u001b[1;36m0\u001b[0m\u001b[1;33m,\u001b[0m \u001b[0mimage_width\u001b[0m\u001b[1;33m,\u001b[0m \u001b[0mwindow_step\u001b[0m\u001b[1;33m)\u001b[0m\u001b[1;33m:\u001b[0m\u001b[1;33m\u001b[0m\u001b[1;33m\u001b[0m\u001b[0m\n\u001b[0;32m     13\u001b[0m             \u001b[0mwindow\u001b[0m \u001b[1;33m=\u001b[0m \u001b[0mimge\u001b[0m\u001b[1;33m[\u001b[0m\u001b[0my\u001b[0m\u001b[1;33m:\u001b[0m\u001b[0my\u001b[0m\u001b[1;33m+\u001b[0m\u001b[0mwindow_size\u001b[0m\u001b[1;33m,\u001b[0m \u001b[0mx\u001b[0m\u001b[1;33m:\u001b[0m\u001b[0mx\u001b[0m\u001b[1;33m+\u001b[0m\u001b[0mwindow_size\u001b[0m\u001b[1;33m]\u001b[0m\u001b[1;33m\u001b[0m\u001b[1;33m\u001b[0m\u001b[0m\n",
      "\u001b[1;31mNameError\u001b[0m: name 'xrange' is not defined"
     ]
    }
   ],
   "source": [
    "from skimage.feature import hog\n",
    "import numpy as np\n",
    "\n",
    "image_height = 48\n",
    "image_width = 48\n",
    "window_size = 24\n",
    "window_step = 6\n",
    "\n",
    "def sliding_hog_windows(imge):\n",
    "    hog_vector = []\n",
    "    for y in xrange(0, image_height, window_step):\n",
    "        for x in xrange(0, image_width, window_step):\n",
    "            window = imge[y:y+window_size, x:x+window_size]\n",
    "            hog_vector.extend(hog(window, orientations=8, pixels_per_cell=(8, 8),\n",
    "                                            cells_per_block=(1, 1), visualise=False))\n",
    "    return hog_vector\n",
    "    \n",
    "imge = img_data[0]\n",
    "hog_vector = sliding_hog_windows(imge)"
   ]
  },
  {
   "cell_type": "code",
   "execution_count": 11,
   "metadata": {},
   "outputs": [
    {
     "data": {
      "image/png": "[encoded data removed]",
      "text/plain": [
       "<Figure size 432x288 with 1 Axes>"
      ]
     },
     "metadata": {
      "needs_background": "light"
     },
     "output_type": "display_data"
    }
   ],
   "source": [
    "import numpy as np\n",
    "from PIL import Image\n",
    "import cv2\n",
    "img1 = cv2.imread('img_data[0]',1)\n",
    "img = Image.fromarray(img_data[2345])\n",
    "plt.imshow(img)\n",
    "plt.show()"
   ]
  },
  {
   "cell_type": "code",
   "execution_count": 28,
   "metadata": {},
   "outputs": [],
   "source": [
    "def split_image(get_value):\n",
    "    pass\n"
   ]
  },
  {
   "cell_type": "code",
   "execution_count": 48,
   "metadata": {},
   "outputs": [
    {
     "name": "stdout",
     "output_type": "stream",
     "text": [
      "104 20 1 2\n",
      "61 5 22 20\n",
      "94 4 14 20\n",
      "43 4 13 21\n",
      "7 3 20 21\n",
      "[61, 22, 5, 20, 94, 14, 4, 20, 43, 13, 4, 21, 7, 20, 3, 21]\n"
     ]
    },
    {
     "data": {
      "image/png": "[encoded data removed]",
      "text/plain": [
       "<Figure size 432x288 with 1 Axes>"
      ]
     },
     "metadata": {
      "needs_background": "light"
     },
     "output_type": "display_data"
    }
   ],
   "source": [
    "import matplotlib.pyplot as plt\n",
    "import matplotlib.patches as mpatches\n",
    "\n",
    "from skimage import data\n",
    "from skimage.filters import threshold_otsu, rank, roberts, sobel, sobel_h, scharr, scharr_v, scharr_h,threshold_isodata\n",
    "from skimage.segmentation import clear_border\n",
    "from skimage.measure import label, regionprops\n",
    "from skimage.morphology import closing, square, disk\n",
    "from skimage.color import label2rgb\n",
    "from skimage.feature import canny\n",
    "from scipy.ndimage import gaussian_filter\n",
    "from skimage import data\n",
    "from skimage import img_as_float\n",
    "from skimage.morphology import reconstruction\n",
    "from scipy import ndimage as ndi\n",
    "from skimage import feature, io\n",
    "from skimage.segmentation import active_contour\n",
    "from skimage import measure\n",
    "from skimage.color import rgb2gray\n",
    "from skimage.filters.rank import mean,  mean_bilateral\n",
    "\n",
    "\n",
    "coord_list=[]\n",
    "# Convert to float: Important for subtraction later which won't work with uint8\n",
    "#for im in img_data\n",
    "\n",
    "sample_image = cv2.imread('sample_2.png')\n",
    "median_blr = cv2.medianBlur(image, 5)\n",
    "plt.imshow(median_blr)\n",
    "median_blr.shape\n",
    "cv2.waitKey(0)\n",
    "copy = median_blr.copy()\n",
    "gray = cv2.cvtColor(median_blr, cv2.COLOR_BGR2GRAY)\n",
    "thresh = cv2.threshold(gray,0,255,cv2.THRESH_OTSU + cv2.THRESH_BINARY)[1]\n",
    "ROI_number = 0\n",
    "cnts = cv2.findContours(thresh, cv2.RETR_EXTERNAL, cv2.CHAIN_APPROX_SIMPLE)\n",
    "cnts = cnts[0] if len(cnts) == 2 else cnts[1]\n",
    "for c in cnts:\n",
    "    x,y,w,h = cv2.boundingRect(c)\n",
    "    ROI = image[y:y+h, x:x+w]\n",
    "    print(x,y,w,h)\n",
    "    if w > 9  or h > 10 :\n",
    "        coord_list.append(x)\n",
    "        coord_list.append(w)\n",
    "        coord_list.append(y)\n",
    "        coord_list.append(h)\n",
    "    \n",
    "   # cv2.imwrite('ROI_{}.png'.format(ROI_number), ROI)\n",
    "    cv2.rectangle(copy,(x,y),(x+w,y+h),(36,255,12),1)\n",
    "    ROI_number += 1\n",
    "\n",
    "plt.imshow(copy)\n",
    "cv2.waitKey()\n",
    "\n",
    "print(coord_list)\n",
    "#-------------------------------------------------------------\n",
    "from skimage.util import img_as_ubyte\n",
    "from skimage import data\n",
    "from skimage.exposure import histogram\n",
    "\n",
    "\n",
    "plt.tight_layout()\n",
    "from skimage.filters.rank import median\n",
    "from skimage.morphology import disk, ball\n",
    "\n",
    "\n"
   ]
  },
  {
   "cell_type": "code",
   "execution_count": 49,
   "metadata": {},
   "outputs": [
    {
     "data": {
      "text/plain": [
       "[(7, 20, 3, 21), (43, 13, 4, 21), (61, 22, 5, 20), (94, 14, 4, 20)]"
      ]
     },
     "execution_count": 49,
     "metadata": {},
     "output_type": "execute_result"
    }
   ],
   "source": [
    "import itertools\n",
    "def split_image(coord_list):\n",
    "    new_coord=[]\n",
    "    updated_coord=[]\n",
    "    final_coord=[]\n",
    "    for i in range(len(coord_list)):\n",
    "            args = [iter(coord_list)] * 4\n",
    "            new_coord = list(itertools.zip_longest(*args, fillvalue=None))\n",
    "    return sorted(new_coord)\n",
    "    \n",
    "split_image(coord_list)"
   ]
  },
  {
   "cell_type": "code",
   "execution_count": 50,
   "metadata": {},
   "outputs": [
    {
     "data": {
      "image/png": "[encoded data removed]",
      "text/plain": [
       "<Figure size 432x288 with 1 Axes>"
      ]
     },
     "metadata": {
      "needs_background": "light"
     },
     "output_type": "display_data"
    },
    {
     "name": "stdout",
     "output_type": "stream",
     "text": [
      "(28, 28, 3)\n"
     ]
    },
    {
     "data": {
      "image/png": "[encoded data removed]",
      "text/plain": [
       "<Figure size 432x288 with 1 Axes>"
      ]
     },
     "metadata": {
      "needs_background": "light"
     },
     "output_type": "display_data"
    },
    {
     "name": "stdout",
     "output_type": "stream",
     "text": [
      "(28, 28, 3)\n"
     ]
    },
    {
     "data": {
      "image/png": "[encoded data removed]",
      "text/plain": [
       "<Figure size 432x288 with 1 Axes>"
      ]
     },
     "metadata": {
      "needs_background": "light"
     },
     "output_type": "display_data"
    },
    {
     "name": "stdout",
     "output_type": "stream",
     "text": [
      "(28, 28, 3)\n"
     ]
    },
    {
     "data": {
      "image/png": "[encoded data removed]",
      "text/plain": [
       "<Figure size 432x288 with 1 Axes>"
      ]
     },
     "metadata": {
      "needs_background": "light"
     },
     "output_type": "display_data"
    },
    {
     "name": "stdout",
     "output_type": "stream",
     "text": [
      "(28, 28, 3)\n"
     ]
    }
   ],
   "source": [
    "import numpy as asarray\n",
    "#for i in imag_data:\n",
    "imk=sample_image\n",
    "coords= split_image(coord_list)\n",
    "image_pred=[]\n",
    "pred_store=[]\n",
    "for i in range(len(coords)):\n",
    "    #img[x:x+w, y:y+h]\n",
    "    imtest1=imk[coords[i][2]:coords[i][2]+coords[i][3],coords[i][0]:coords[i][0]+coords[i][1]]\n",
    "    plt.imshow(imtest1)\n",
    "    plt.show()\n",
    "    res1 = cv2.resize(imtest1, dsize=(28, 28), interpolation=cv2.INTER_CUBIC)\n",
    "    res1.shape\n",
    "    print(res1.shape)\n",
    "    #pred_img1 = np.expand_dims(res1, axis=0)\n",
    "    image_pred.append(np.asarray(res1))\n",
    "image_pred=np.array(image_pred)\n",
    "import cv2"
   ]
  },
  {
   "cell_type": "code",
   "execution_count": 39,
   "metadata": {},
   "outputs": [
    {
     "name": "stdout",
     "output_type": "stream",
     "text": [
      "shape (3, 28, 28, 1)\n"
     ]
    },
    {
     "ename": "NameError",
     "evalue": "name 'model' is not defined",
     "output_type": "error",
     "traceback": [
      "\u001b[1;31m---------------------------------------------------------------------------\u001b[0m",
      "\u001b[1;31mNameError\u001b[0m                                 Traceback (most recent call last)",
      "\u001b[1;32m<ipython-input-39-406b67f9e841>\u001b[0m in \u001b[0;36m<module>\u001b[1;34m\u001b[0m\n\u001b[0;32m      1\u001b[0m \u001b[0mimage_pred\u001b[0m \u001b[1;33m=\u001b[0m \u001b[0mimage_pred\u001b[0m\u001b[1;33m.\u001b[0m\u001b[0mreshape\u001b[0m\u001b[1;33m(\u001b[0m\u001b[0mimage_pred\u001b[0m\u001b[1;33m.\u001b[0m\u001b[0mshape\u001b[0m\u001b[1;33m[\u001b[0m\u001b[1;36m0\u001b[0m\u001b[1;33m]\u001b[0m\u001b[1;33m,\u001b[0m \u001b[1;36m28\u001b[0m\u001b[1;33m,\u001b[0m \u001b[1;36m28\u001b[0m\u001b[1;33m,\u001b[0m \u001b[1;36m1\u001b[0m\u001b[1;33m)\u001b[0m\u001b[1;33m.\u001b[0m\u001b[0mastype\u001b[0m\u001b[1;33m(\u001b[0m\u001b[1;34m\"float32\"\u001b[0m\u001b[1;33m)\u001b[0m \u001b[1;33m/\u001b[0m \u001b[1;36m255\u001b[0m\u001b[1;33m\u001b[0m\u001b[1;33m\u001b[0m\u001b[0m\n\u001b[0;32m      2\u001b[0m \u001b[0mprint\u001b[0m\u001b[1;33m(\u001b[0m\u001b[1;34m\"shape\"\u001b[0m\u001b[1;33m,\u001b[0m\u001b[1;33m(\u001b[0m\u001b[0mimage_pred\u001b[0m\u001b[1;33m.\u001b[0m\u001b[0mshape\u001b[0m\u001b[1;33m)\u001b[0m \u001b[1;33m)\u001b[0m\u001b[1;33m\u001b[0m\u001b[1;33m\u001b[0m\u001b[0m\n\u001b[1;32m----> 3\u001b[1;33m \u001b[0mpreds1\u001b[0m\u001b[1;33m=\u001b[0m\u001b[0mmodel\u001b[0m\u001b[1;33m.\u001b[0m\u001b[0mpredict_classes\u001b[0m\u001b[1;33m(\u001b[0m\u001b[0mimage_pred\u001b[0m\u001b[1;33m,\u001b[0m \u001b[0mverbose\u001b[0m\u001b[1;33m=\u001b[0m\u001b[1;36m1\u001b[0m\u001b[1;33m)\u001b[0m\u001b[1;33m\u001b[0m\u001b[1;33m\u001b[0m\u001b[0m\n\u001b[0m\u001b[0;32m      4\u001b[0m \u001b[0mprint\u001b[0m\u001b[1;33m(\u001b[0m\u001b[0mpreds1\u001b[0m\u001b[1;33m[\u001b[0m\u001b[1;33m:\u001b[0m\u001b[1;36m5\u001b[0m\u001b[1;33m]\u001b[0m\u001b[1;33m)\u001b[0m\u001b[1;33m\u001b[0m\u001b[1;33m\u001b[0m\u001b[0m\n",
      "\u001b[1;31mNameError\u001b[0m: name 'model' is not defined"
     ]
    }
   ],
   "source": [
    "image_pred = image_pred.reshape(image_pred.shape[0], 28, 28, 1).astype(\"float32\") / 255\n",
    "print(\"shape\",(image_pred.shape) )\n",
    "preds1=model.predict_classes(image_pred, verbose=1)\n",
    "print(preds1[:5])"
   ]
  },
  {
   "cell_type": "code",
   "execution_count": null,
   "metadata": {},
   "outputs": [],
   "source": [
    "print(accuracy_score(y_test, image_pred))"
   ]
  },
  {
   "cell_type": "code",
   "execution_count": null,
   "metadata": {},
   "outputs": [],
   "source": [
    "from skimage.filters import sobel\n",
    "from skimage.measure import label\n",
    "from skimage.segmentation import slic, join_segmentations, watershed\n",
    "from skimage.color import label2rgb\n",
    "from skimage import data\n",
    "\n",
    "coins = (img_data[343])\n",
    "\n",
    "# Make segmentation using edge-detection and watershed.\n",
    "edges = sobel(coins)\n",
    "\n",
    "# Identify some background and foreground pixels from the intensity values.\n",
    "# These pixels are used as seeds for watershed.\n",
    "markers = np.zeros_like(coins)\n",
    "foreground, background = 1, 2\n",
    "markers[coins < 30.0] = background\n",
    "markers[coins > 150.0] = foreground\n",
    "\n",
    "ws = watershed(edges, markers)\n",
    "seg1 = label(ws == foreground)\n",
    "\n",
    "# Make segmentation using SLIC superpixels.\n",
    "seg2 = slic(coins, n_segments=6, max_iter=900, sigma=1, compactness=700,\n",
    "            multichannel=False, start_label=0)\n",
    "\n",
    "# Combine the two.\n",
    "segj = join_segmentations(seg1, seg2)\n",
    "\n",
    "# Show the segmentations.\n",
    "fig, axes = plt.subplots(ncols=2, nrows=2, figsize=(9, 5),\n",
    "                         sharex=True, sharey=True)\n",
    "ax = axes.ravel()\n",
    "ax[0].imshow(coins, cmap='gray')\n",
    "ax[0].set_title('Image')\n",
    "\n",
    "color1 = label2rgb(seg1, image=coins, bg_label=0)\n",
    "ax[1].imshow(color1)\n",
    "ax[1].set_title('Sobel+Watershed')\n",
    "\n",
    "color2 = label2rgb(seg2, image=coins, image_alpha=1, bg_label=-1)\n",
    "ax[2].imshow(color2)\n",
    "ax[2].set_title('SLIC superpixels')\n",
    "# Combine the two.\n",
    "segj = join_segmentations(seg1, seg2)\n",
    "\n",
    "color3 = label2rgb(segj, image=coins, image_alpha=1, bg_label=-1)\n",
    "ax[3].imshow(color3)\n",
    "ax[3].set_title('Join')\n",
    "\n",
    "for a in ax:\n",
    "    a.axis('off')\n",
    "fig.tight_layout()\n",
    "plt.show()"
   ]
  },
  {
   "cell_type": "code",
   "execution_count": null,
   "metadata": {},
   "outputs": [],
   "source": [
    "type(seg2)"
   ]
  },
  {
   "cell_type": "code",
   "execution_count": null,
   "metadata": {},
   "outputs": [],
   "source": [
    "nparr = np.fromstring(img_data[0], np.uint8)\n",
    "\n",
    "#img_np = cv2.imdecode(nparr, cv2.CV_LOAD_IMAGE_COLOR)\n",
    "img = np.float32(img1)\n",
    "gray = cv2.cvtColor('img', cv2.COLOR_BGR2GRAY)\n",
    "\n",
    "# Convert to binary and invert polarity\n",
    "ret, thresh = cv2.threshold(gray, 0, 255, cv2.THRESH_BINARY_INV + cv2.THRESH_OTSU)\n",
    "\n",
    "# Find connected components (clusters)\n",
    "nlabel, labels, stats, centroids = cv2.connectedComponentsWithStats(thresh, connectivity=8)\n",
    "\n",
    "\n",
    "# Remove small clusters: With both width<=10 and height<=10 (clean small size noise).\n",
    "for i in range(nlabel):\n",
    "    if (stats[i, cv2.CC_STAT_WIDTH] <= 10) and (stats[i, cv2.CC_STAT_HEIGHT] <= 10):\n",
    "        thresh[labels == i] = 0\n",
    "\n",
    "#Use closing with very large horizontal kernel\n",
    "mask = cv2.morphologyEx(thresh, cv2.MORPH_CLOSE, np.ones((1, 150)))\n",
    "\n",
    "# Find connected components (clusters) on mask\n",
    "nlabel, labels, stats, centroids = cv2.connectedComponentsWithStats(mask, connectivity=8)\n",
    "\n",
    "# Find label with maximum area\n",
    "# https://stackoverflow.com/questions/47520487/how-to-use-python-opencv-to-find-largest-connected-component-in-a-single-channel\n",
    "largest_label = 1 + np.argmax(stats[1:, cv2.CC_STAT_AREA])\n",
    "\n",
    "# Set to zero all clusters that are not the largest cluster.\n",
    "thresh[labels != largest_label] = 0\n",
    "\n",
    "# Use closing with horizontal kernel of 15 (connecting components of digits)\n",
    "mask = cv2.morphologyEx(thresh, cv2.MORPH_CLOSE, np.ones((1, 15)))\n",
    "\n",
    "# Find connected components (clusters) on mask again\n",
    "nlabel, labels, stats, centroids = cv2.connectedComponentsWithStats(mask, connectivity=8)\n",
    "\n",
    "# Remove small clusters: With both width<=30 and height<=30\n",
    "for i in range(nlabel):\n",
    "    if (stats[i, cv2.CC_STAT_WIDTH] <= 30) and (stats[i, cv2.CC_STAT_HEIGHT] <= 30):\n",
    "        thresh[labels == i] = 0\n",
    "\n",
    "# Use closing with horizontal kernel of 15, this time on thresh\n",
    "thresh = cv2.morphologyEx(thresh, cv2.MORPH_CLOSE, np.ones((1, 15)))\n",
    "\n",
    "# Use median filter with 3x5 mask (using OpenCV medianBlur with k=5 is removes important details).\n",
    "thresh = scipy.signal.medfilt(thresh, (3,5))\n",
    "\n",
    "# Inverse polarity\n",
    "thresh = 255 - thresh\n",
    "\n",
    "# Apply OCR\n",
    "data = pytesseract.image_to_string(thresh, config=\"-c tessedit\"\n",
    "                                                  \"_char_whitelist=ABCDEFGHIJKLMNOPQRSTUVWXYZ1234567890-/\"\n",
    "                                                  \" --psm 6\"\n",
    "                                                  \" \")\n",
    "\n",
    "print(data)\n",
    "\n",
    "# Show image for testing\n",
    "cv2.imshow('thresh', thresh)\n"
   ]
  },
  {
   "cell_type": "code",
   "execution_count": null,
   "metadata": {},
   "outputs": [],
   "source": [
    "'''''#from scipy import misc\n",
    "\n",
    "# Read the image\n",
    "img = img_data[0]\n",
    "height, width = img.shape\n",
    "\n",
    "# Cut the image in half\n",
    "#width_cutoff = width // 3\n",
    "s1 = img[3:14, 12:20]\n",
    "s2 = img[4:34, 42:63]\n",
    "s3 = img[6:23, 80:101]\n",
    "s4 = img[13:25, 7:26]\n",
    "#Save each half\n",
    "#misc.imsave(\"face1.png\", s1)\n",
    "#misc.imsave(\"face2.png\", s2)\n",
    "'''''\n",
    "#for im in (s1,s2,s3,s4):\n",
    "img = img_data[0]\n",
    "image1 = img[13:31, 7:25]\n",
    "image1 = np.array(image1, dtype='float')\n",
    "pixels1 = image1\n",
    "plt.imshow(img1)\n",
    "plt.show()"
   ]
  },
  {
   "cell_type": "code",
   "execution_count": null,
   "metadata": {},
   "outputs": [],
   "source": []
  },
  {
   "cell_type": "code",
   "execution_count": null,
   "metadata": {},
   "outputs": [],
   "source": []
  },
  {
   "cell_type": "code",
   "execution_count": null,
   "metadata": {},
   "outputs": [],
   "source": []
  },
  {
   "cell_type": "code",
   "execution_count": null,
   "metadata": {},
   "outputs": [],
   "source": []
  },
  {
   "cell_type": "code",
   "execution_count": null,
   "metadata": {},
   "outputs": [],
   "source": [
    "pred_img.shape"
   ]
  },
  {
   "cell_type": "code",
   "execution_count": null,
   "metadata": {},
   "outputs": [],
   "source": [
    "for image_pr in img_data:\n",
    "    plt.imshow(image_pr)\n",
    "    plt.show()"
   ]
  },
  {
   "cell_type": "code",
   "execution_count": null,
   "metadata": {},
   "outputs": [],
   "source": []
  },
  {
   "cell_type": "code",
   "execution_count": null,
   "metadata": {},
   "outputs": [],
   "source": [
    "from tensorflow.keras.preprocessing import image\n",
    "from PIL import Image\n",
    "import pathlib"
   ]
  },
  {
   "cell_type": "code",
   "execution_count": null,
   "metadata": {},
   "outputs": [],
   "source": []
  },
  {
   "cell_type": "code",
   "execution_count": null,
   "metadata": {},
   "outputs": [],
   "source": [
    "from skimage.feature import hog\n",
    "import numpy as np\n",
    "\n",
    "image_height = 48\n",
    "image_width = 48\n",
    "window_size = 24\n",
    "window_step = 6\n",
    "\n",
    "def sliding_hog_windows(image):\n",
    "    hog_vector = []\n",
    "    for y in range(0, image_height, window_step):\n",
    "        for x in range(0, image_width, window_step):\n",
    "            window = image[y:y+window_size, x:x+window_size]\n",
    "            hog_vector.extend(hog(window, orientations=8, pixels_per_cell=(8, 8),cells_per_block=(1, 1)))\n",
    "    return hog_vector\n",
    "    \n",
    "image = imk\n",
    "hog_vector = sliding_hog_windows(image)"
   ]
  },
  {
   "cell_type": "code",
   "execution_count": null,
   "metadata": {},
   "outputs": [],
   "source": [
    "letter.shape"
   ]
  }
 ],
 "metadata": {
  "kernelspec": {
   "display_name": "Python 3",
   "language": "python",
   "name": "python3"
  },
  "language_info": {
   "codemirror_mode": {
    "name": "ipython",
    "version": 3
   },
   "file_extension": ".py",
   "mimetype": "text/x-python",
   "name": "python",
   "nbconvert_exporter": "python",
   "pygments_lexer": "ipython3",
   "version": "3.7.3"
  }
 },
 "nbformat": 4,
 "nbformat_minor": 4
}
